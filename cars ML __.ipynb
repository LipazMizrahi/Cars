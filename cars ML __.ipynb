{
 "cells": [
  {
   "cell_type": "code",
   "execution_count": 1,
   "id": "56063cd6",
   "metadata": {},
   "outputs": [],
   "source": [
    "import pandas as pd\n",
    "from sklearn.preprocessing import StandardScaler\n",
    "from sklearn.model_selection import train_test_split\n",
    "from sklearn.linear_model import LogisticRegression\n",
    "from sklearn.linear_model import LinearRegression\n",
    "from sklearn.model_selection import KFold\n",
    "from sklearn.preprocessing import MinMaxScaler, StandardScaler, normalize\n",
    "import warnings\n",
    "warnings.filterwarnings(\"ignore\")\n",
    "from matplotlib import pyplot as plt\n",
    "import math\n",
    "import numpy as np\n",
    "import pandasql as ps"
   ]
  },
  {
   "cell_type": "markdown",
   "id": "fb3decc5",
   "metadata": {},
   "source": [
    "# Import our cars data frame\n"
   ]
  },
  {
   "cell_type": "code",
   "execution_count": 2,
   "id": "b9b43683",
   "metadata": {},
   "outputs": [],
   "source": [
    "#משיכת הטבלה\n",
    "df = pd.read_excel (r'cars_cleaning.xlsx', header=0)\n",
    "df =  df[[\"modaa\",\"price\",\"area\",\"producer\",\"year\",\"km\",\"yad\",\"gir\",\"manoa_type\",\"color\",\"baalot\",\"ac\",\"windows\",\"sunroof\",\"gps\",\"air_bag\",\"numSTD\"]]\n",
    "dfModel=df"
   ]
  },
  {
   "cell_type": "markdown",
   "id": "932fc7a4",
   "metadata": {},
   "source": [
    "# Machine Learning's process\n"
   ]
  },
  {
   "cell_type": "code",
   "execution_count": 3,
   "id": "a24395a3",
   "metadata": {},
   "outputs": [
    {
     "name": "stdout",
     "output_type": "stream",
     "text": [
      "R^2= 0.929411150395639\n"
     ]
    }
   ],
   "source": [
    "#ריגרסייה לינארית עבור מספר רב של פיצרים\n",
    "X = dfModel[[\"year\",\"km\",\"yad\",\"gir\",\"manoa_type\",\"color\",\"baalot\",\"ac\",\"numSTD\"]]\n",
    "y = dfModel['price']\n",
    "\n",
    "X_train, X_test, y_train, y_test = train_test_split(X, y, test_size=0.2, random_state=40)\n",
    "\n",
    "modelLinear2 = LinearRegression().fit(X_train, y_train)\n",
    "y_pred = modelLinear2.predict(X_test)#y=a*x+b\n",
    "\n",
    "Linear = pd.DataFrame({'pred':y_pred,\n",
    "                   'test':y_test})\n",
    "Linear['percent']=round((abs(Linear['pred']-Linear['test'])/Linear['test'])*100)#|pred-test|/test אחוז השגיאה מתוך המחיר האמיתי\n",
    "Linear['SSE']=round((Linear['pred']-Linear['test'])*(Linear['pred']-Linear['test']))\n",
    "Linear['TSS']=round((Linear['test']-Linear['test'].mean())*(Linear['test']-Linear['test'].mean()))\n",
    "R2Linear2=1-(Linear['SSE'].sum()/Linear['TSS'].sum())#חישוב R^2\n",
    "print('R^2= '+str(R2Linear2))\n"
   ]
  },
  {
   "cell_type": "code",
   "execution_count": 4,
   "id": "646246c8",
   "metadata": {},
   "outputs": [
    {
     "name": "stdout",
     "output_type": "stream",
     "text": [
      "R^2= 0.9280574070353195\n",
      "R1^2-R2^2= 0.0013537433603195703\n",
      "price=a+bX+cY+dZ+eW\n",
      "price=50237.202+(-0.022*km)+(-165.523*yad)+(1674.765*gir)+(45435.719*std)\n"
     ]
    }
   ],
   "source": [
    "#ריגרסייה לינארית עבור מספר מצומצם של פיצרים\n",
    "X = dfModel[[\"km\",\"yad\",\"gir\",\"numSTD\"]]\n",
    "y = dfModel['price']\n",
    "\n",
    "X_train, X_test, y_train, y_test = train_test_split(X, y, test_size=0.2, random_state=40)\n",
    "\n",
    "modelLinear = LinearRegression().fit(X_train, y_train)\n",
    "y_pred = modelLinear.predict(X_test)#y=a*x+b\n",
    "\n",
    "Linear = pd.DataFrame({'pred':y_pred,\n",
    "                   'test':y_test})\n",
    "Linear['percent']=round((abs(Linear['pred']-Linear['test'])/Linear['test'])*100)#|pred-test|/test אחוז השגיאה מתוך המחיר האמיתי\n",
    "Linear['SSE']=round((Linear['pred']-Linear['test'])*(Linear['pred']-Linear['test']))\n",
    "Linear['TSS']=round((Linear['test']-Linear['test'].mean())*(Linear['test']-Linear['test'].mean()))\n",
    "R2Linear1=1-(Linear['SSE'].sum()/Linear['TSS'].sum())#חישוב R^2\n",
    "print('R^2= '+str(R2Linear1))\n",
    "\n",
    "print('R1^2-R2^2= '+str(R2Linear2-R2Linear1))\n",
    "\n",
    "print('price=a+bX+cY+dZ+eW')\n",
    "print('price='+str(round(modelLinear.intercept_,3))+'+('+\n",
    "                str(round(modelLinear.coef_[0],3))+'*km)+('+\n",
    "                str(round(modelLinear.coef_[1],3))+'*yad)+('+\n",
    "                str(round(modelLinear.coef_[2],3))+'*gir)+('+\n",
    "                str(round(modelLinear.coef_[3],3))+'*std)')"
   ]
  },
  {
   "cell_type": "code",
   "execution_count": 5,
   "id": "2b25178b",
   "metadata": {},
   "outputs": [
    {
     "name": "stdout",
     "output_type": "stream",
     "text": [
      "0.7668243180309028\n"
     ]
    }
   ],
   "source": [
    "#ריגרסייה לוגיסטית\n",
    "X = dfModel[[\"km\",\"yad\",\"gir\",\"manoa_type\",\"color\",\"baalot\",\"ac\",\"numSTD\"]]\n",
    "y = dfModel['price']\n",
    "\n",
    "X_train, X_test, y_train, y_test = train_test_split(X, y, test_size=0.33, random_state=40)\n",
    "scaler = MinMaxScaler(feature_range=(-1,1))\n",
    "X_train_scaled = scaler.fit_transform(X_train)\n",
    "X_test_scaled = scaler.fit_transform(X_test)\n",
    "model = LogisticRegression().fit(X_train_scaled, y_train)\n",
    "\n",
    "\n",
    "y_pred = model.predict(X_test_scaled)#y=a*x+b\n",
    "\n",
    "Logistic = pd.DataFrame({'pred':y_pred,\n",
    "                   'test':y_test})\n",
    "Logistic['percent']=round((abs(Logistic['pred']-Logistic['test'])/Logistic['test'])*100)#|pred-test|/test אחוז השגיאה מתוך המחיר האמיתי\n",
    "Logistic['SSE']=round((Logistic['pred']-Logistic['test'])*(Logistic['pred']-Logistic['test']))\n",
    "Logistic['TSS']=round((Logistic['test']-Logistic['test'].mean())*(Logistic['test']-Logistic['test'].mean()))\n",
    "R2Logistice=1-(Logistic['SSE'].sum()/Logistic['TSS'].sum())#חישוב R^2\n",
    "print(R2Logistice)"
   ]
  },
  {
   "cell_type": "code",
   "execution_count": 6,
   "id": "62bbca77",
   "metadata": {},
   "outputs": [
    {
     "name": "stdout",
     "output_type": "stream",
     "text": [
      "Producer:\n",
      "0. ABARTH\n",
      "1. ALFA\n",
      "2. AUDI\n",
      "3. BMW\n",
      "4. BUICH\n",
      "5. CADILLAC\n",
      "6. CHEVROLET\n",
      "7. CHRYSLER\n",
      "8. DACIA\n",
      "9. DAEWOO\n",
      "10. DAIHATSU\n",
      "11. DODGE\n",
      "12. FIAT\n",
      "13. FORD\n",
      "14. GRAET\n",
      "15. HONDA\n",
      "16. HYUNDAI\n",
      "17. INFINITI\n",
      "18. JAGUAR\n",
      "19. KIA\n",
      "20. LANCIA\n",
      "21. LEXUS\n",
      "22. LINCOLN\n",
      "23. MAZARATI\n",
      "24. MAZDA\n",
      "25. MERCEDES\n",
      "26. MINI\n",
      "27. MITSUBISHI\n",
      "28. NISSAN\n",
      "29. OPAL\n",
      "30. PEUGEOT\n",
      "31. PONTIAC\n",
      "32. PORCHE\n",
      "33. RENU\n",
      "34. RUBER\n",
      "35. SAAB\n",
      "36. SANGYOUNG\n",
      "37. SIAT\n",
      "38. SITR\n",
      "39. SKODA\n",
      "40. SMART\n",
      "41. SUBARO\n",
      "42. SUZUKI\n",
      "43. TESLA\n",
      "44. TOYOTA\n",
      "45. VOLVO\n",
      "46. VW\n",
      "Please enter the Producer Code: 24\n",
      "MAZDA has been choosen, please choose model:\n",
      "0.  מאזדה 121\n",
      "1.  מאזדה 2\n",
      "2.  מאזדה 3\n",
      "3.  מאזדה 323\n",
      "4.  מאזדה 5\n",
      "5.  מאזדה 6\n",
      "6.  מאזדה 626\n",
      "7.  מאזדה MPV\n",
      "8.  מאזדה MX5\n",
      "9.  מאזדה דמיו\n",
      "10.  מאזדה פרמסי\n",
      "Please enter the Model Code: 2\n",
      " מאזדה 3 has been choosen, please choose year:\n",
      "0. 2004\n",
      "1. 2005\n",
      "2. 2006\n",
      "3. 2007\n",
      "4. 2008\n",
      "5. 2009\n",
      "6. 2010\n",
      "7. 2011\n",
      "8. 2012\n",
      "9. 2013\n",
      "10. 2014\n",
      "11. 2015\n",
      "12. 2016\n",
      "13. 2017\n",
      "14. 2018\n",
      "15. 2019\n",
      "16. 2020\n",
      "17. 2021\n",
      "Please enter the Year Code: 16\n",
      "2020 has been choosen.\n",
      "Please enter the KM: 1000\n",
      "Please enter the Yad: 1\n",
      "Please enter the Gir: 0 Manual, 1 Auto1\n"
     ]
    }
   ],
   "source": [
    "###### קליטת משתמש וחיזוי\n",
    "STDtable = pd.read_excel (r'carsSTD.xlsx', header=0)\n",
    "\n",
    "###############יצרן\n",
    "producer=STDtable['producer'].unique().tolist()\n",
    "\n",
    "print('Producer:')\n",
    "for i in range(0,len(producer)):\n",
    "    print(str(i) +'. '+str(producer[i]))\n",
    "producerCode=-1\n",
    "while(not(producerCode>=0 and producerCode<len(producer))):\n",
    "    producerCode = int(input(\"Please enter the Producer Code: \"))\n",
    "print(str(producer[producerCode])+' has been choosen, please choose model:')\n",
    "\n",
    "###############מודל\n",
    "STDtable = STDtable[STDtable.producer==str(producer[producerCode])]\n",
    "model=STDtable['model'].unique().tolist()\n",
    "\n",
    "for i in range(0,len(model)):\n",
    "    print(str(i) +'. '+str(model[i]))\n",
    "modelCode=-1\n",
    "while(not(modelCode>=0 and modelCode<len(model))):\n",
    "    modelCode = int(input(\"Please enter the Model Code: \"))\n",
    "print(str(model[modelCode])+' has been choosen, please choose year:')\n",
    "\n",
    "###############שנה\n",
    "STDtable= STDtable[STDtable.model==str(model[modelCode])]\n",
    "year=STDtable['year'].unique().tolist()\n",
    "\n",
    "for i in range(0,len(year)):\n",
    "    print(str(i) +'. '+str(year[i]))\n",
    "yearCode=-1\n",
    "while(not(yearCode>=0 and yearCode<len(year))):\n",
    "    yearCode = int(input(\"Please enter the Year Code: \"))\n",
    "print(str(year[yearCode])+' has been choosen.')\n",
    "\n",
    "###############KM & Yad & GIR\n",
    "KM = int(input(\"Please enter the KM: \"))\n",
    "Yad = int(input(\"Please enter the Yad: \"))\n",
    "Gir = int(input(\"Please enter the Gir: 0 Manual, 1 Auto\"))\n",
    "\n"
   ]
  },
  {
   "cell_type": "code",
   "execution_count": 7,
   "id": "8a6d03e4",
   "metadata": {},
   "outputs": [
    {
     "name": "stdout",
     "output_type": "stream",
     "text": [
      "Car details:\n",
      "   producer:MAZDA\n",
      "   model: מאזדה 3\n",
      "   year:2020\n",
      "   km:1000.0\n",
      "   yad:1.0\n",
      "   gir:1.0\n",
      "price=50237.202+(-0.022*1000.0)+(-165.523*1.0)+(1674.765*1.0)+(45435.719*1.75)\n",
      "your car price is:131237\n"
     ]
    }
   ],
   "source": [
    "STDtable = STDtable[STDtable.year==year[yearCode]]\n",
    "STD=STDtable['numSTD'].unique().tolist()\n",
    "STD=STD[0]\n",
    "answer= pd.DataFrame(columns = [\"km\",\"yad\",\"gir\",\"numSTD\"])\n",
    "answer=answer.append({\"km\":KM,\"yad\":Yad,\"gir\":Gir,\"numSTD\":STD },ignore_index = True)\n",
    "\n",
    "y_predAnswer = modelLinear.predict(answer)#y=a*x+b\n",
    "\n",
    "print('Car details:'+\n",
    "      '\\n   producer:'+str(producer[producerCode])+\n",
    "      '\\n   model:'+str(model[modelCode])+\n",
    "      '\\n   year:'+str(year[yearCode])+\n",
    "      '\\n   km:'+str(answer['km'][0])+\n",
    "      '\\n   yad:'+str(answer['yad'][0])+\n",
    "      '\\n   gir:'+str(answer['gir'][0]))\n",
    "\n",
    "print('price='+str(round(modelLinear.intercept_,3))+'+('+\n",
    "                str(round(modelLinear.coef_[0],3))+'*'+str(answer['km'][0])+')+('+\n",
    "                str(round(modelLinear.coef_[1],3))+'*'+str(answer['yad'][0])+')+('+\n",
    "                str(round(modelLinear.coef_[2],3))+'*'+str(answer['gir'][0])+')+('+\n",
    "                str(round(modelLinear.coef_[3],3))+'*'+str(STD)+')')\n",
    "print('your car price is:' + str(int(y_predAnswer)))"
   ]
  },
  {
   "cell_type": "code",
   "execution_count": null,
   "id": "0c98f4ec",
   "metadata": {},
   "outputs": [],
   "source": []
  },
  {
   "cell_type": "code",
   "execution_count": null,
   "id": "7efd714d",
   "metadata": {},
   "outputs": [],
   "source": []
  }
 ],
 "metadata": {
  "kernelspec": {
   "display_name": "Python 3",
   "language": "python",
   "name": "python3"
  },
  "language_info": {
   "codemirror_mode": {
    "name": "ipython",
    "version": 3
   },
   "file_extension": ".py",
   "mimetype": "text/x-python",
   "name": "python",
   "nbconvert_exporter": "python",
   "pygments_lexer": "ipython3",
   "version": "3.8.8"
  }
 },
 "nbformat": 4,
 "nbformat_minor": 5
}
